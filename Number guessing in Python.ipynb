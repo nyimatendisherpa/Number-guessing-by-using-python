{
 "cells": [
  {
   "cell_type": "markdown",
   "id": "1d4b3f07",
   "metadata": {},
   "source": [
    "SIMPLE NUMBER GUESSING GAME  IN PYTHON\n",
    "="
   ]
  },
  {
   "cell_type": "raw",
   "id": "7667ba42",
   "metadata": {},
   "source": [
    "Here, you will learn basic parts of python "
   ]
  },
  {
   "cell_type": "code",
   "execution_count": null,
   "id": "46c11995",
   "metadata": {},
   "outputs": [],
   "source": [
    "#import random and math at the beinning \n",
    "import random\n",
    "#math is  for mathmatical function and constants \n",
    "import math \n",
    "# input from user on both lowe to upper bound  which means minimum value to the maximumm value which actually represnts range of values.\n",
    "lower=int(input(\"Enter the lower bound \"))\n",
    "upper=int(input(\"Enter the upper bound\"))\n",
    "\n",
    "#we use randint is to generate (lower and upper)\n",
    "x=random.randint(lower,upper)\n",
    "\n",
    "\n",
    "#number of attempts reuired to guess a number in the range (lower and upper) by using binary search strategy \n",
    "total_chanses=math.ceil(math.log(upper - lower +1,2))# the logarithm base 2 and logarithm up to nearest integer\n",
    "\n",
    "# printing total chanses \n",
    "print(\"\\n\\t you have only\",total_chanses,\"chanses to guess the integer\")\n",
    "count=0\n",
    "#bollean indicator to track and control the flow of logic\n",
    "flag=False\n",
    "\n",
    "#creates a loop that continues running as long as the variable count is the maximum numbers of attempts allowed\n",
    "while count < total_chanses:\n",
    "    count+=1\n",
    "    #users enters a guess\n",
    "    guess=int(input(\"your guess number is:\"))\n",
    "    \n",
    "    if x==guess:\n",
    "        print(\"congratulation you did it :\",count,\"try\")\n",
    "        #bollean expression\n",
    "        flag= True\n",
    "        break\n",
    "    elif x > guess:\n",
    "        print(\"you guessed too small \")\n",
    "    elif x < guess:\n",
    "        print(\"you guessed too high\")\n",
    "#it  provides output    \n",
    "if not flag:\n",
    "    print(\"The actual number is %d\" %x)\n",
    "    print(\"Better luck next time\")\n"
   ]
  }
 ],
 "metadata": {
  "kernelspec": {
   "display_name": "Python 3 (ipykernel)",
   "language": "python",
   "name": "python3"
  },
  "language_info": {
   "codemirror_mode": {
    "name": "ipython",
    "version": 3
   },
   "file_extension": ".py",
   "mimetype": "text/x-python",
   "name": "python",
   "nbconvert_exporter": "python",
   "pygments_lexer": "ipython3",
   "version": "3.10.12"
  }
 },
 "nbformat": 4,
 "nbformat_minor": 5
}
